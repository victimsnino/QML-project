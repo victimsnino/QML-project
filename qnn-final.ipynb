{
 "cells": [
  {
   "cell_type": "code",
   "execution_count": 183,
   "metadata": {},
   "outputs": [],
   "source": [
    "import numpy as np\n",
    "import tensorflow as tf\n",
    "\n",
    "# Get the MNIST Data\n",
    "mnist = tf.keras.datasets.mnist"
   ]
  },
  {
   "cell_type": "code",
   "execution_count": 186,
   "metadata": {},
   "outputs": [
    {
     "name": "stdout",
     "output_type": "stream",
     "text": [
      "60000 10000\n",
      "(60000, 28, 28)\n"
     ]
    }
   ],
   "source": [
    "n_qubits = 6                  # Number of qubits\n",
    "num_layers = 5                # Number of layers\n",
    "\n",
    "(x_train, y_train), (x_test, y_test) = mnist.load_data()\n",
    "x_train, x_test = x_train / 255.0, x_test / 255.0\n",
    "\n",
    "print(len(x_train), len(y_test))\n",
    "print(x_train.shape)\n",
    "\n",
    "reduce_scale = 5\n",
    "select_digits = [1, 3, 6]\n",
    "\n",
    "if select_digits:\n",
    "  train_index_f = (y_train == -1)\n",
    "  tests_index_f = (y_test  == -1)\n",
    "  \n",
    "  for n_class in select_digits:\n",
    "    train_index_f   |= (y_train == n_class) \n",
    "    tests_index_f   |= (y_test == n_class)\n",
    "  x_train = x_train[train_index_f]\n",
    "  y_train = y_train[train_index_f]\n",
    "\n",
    "  x_test = x_test[tests_index_f]\n",
    "  y_test = y_test[tests_index_f]\n",
    "\n",
    "if reduce_scale:\n",
    "  x_train = x_train[:int(len(x_train)/reduce_scale)]\n",
    "  y_train = y_train[:int(len(y_train)/reduce_scale)]\n",
    "\n",
    "  x_test = x_test[:int(len(x_test)/reduce_scale)]\n",
    "  y_test = y_test[:int(len(y_test)/reduce_scale)]"
   ]
  },
  {
   "cell_type": "code",
   "execution_count": 188,
   "metadata": {},
   "outputs": [
    {
     "name": "stdout",
     "output_type": "stream",
     "text": [
      "Epoch 1/50\n",
      "118/118 [==============================] - 1s 5ms/step - loss: 0.1543 - accuracy: 0.1227 - val_loss: 0.1017 - val_accuracy: 0.1410\n",
      "Epoch 2/50\n",
      "118/118 [==============================] - 0s 3ms/step - loss: 0.1086 - accuracy: 0.1119 - val_loss: 0.0961 - val_accuracy: 0.1281\n",
      "Epoch 3/50\n",
      "118/118 [==============================] - 0s 3ms/step - loss: 0.0993 - accuracy: 0.1286 - val_loss: 0.0867 - val_accuracy: 0.1517\n",
      "Epoch 4/50\n",
      "118/118 [==============================] - 0s 3ms/step - loss: 0.0918 - accuracy: 0.1534 - val_loss: 0.0833 - val_accuracy: 0.1589\n",
      "Epoch 5/50\n",
      "118/118 [==============================] - 0s 3ms/step - loss: 0.0851 - accuracy: 0.1745 - val_loss: 0.0762 - val_accuracy: 0.1957\n",
      "Epoch 6/50\n",
      "118/118 [==============================] - 0s 3ms/step - loss: 0.0769 - accuracy: 0.1950 - val_loss: 0.0705 - val_accuracy: 0.2007\n",
      "Epoch 7/50\n",
      "118/118 [==============================] - 0s 3ms/step - loss: 0.0718 - accuracy: 0.2006 - val_loss: 0.0672 - val_accuracy: 0.2096\n",
      "Epoch 8/50\n",
      "118/118 [==============================] - 0s 3ms/step - loss: 0.0673 - accuracy: 0.2113 - val_loss: 0.0638 - val_accuracy: 0.2196\n",
      "Epoch 9/50\n",
      "118/118 [==============================] - 0s 4ms/step - loss: 0.0629 - accuracy: 0.2176 - val_loss: 0.0601 - val_accuracy: 0.2291\n",
      "Epoch 10/50\n",
      "118/118 [==============================] - 0s 4ms/step - loss: 0.0599 - accuracy: 0.2231 - val_loss: 0.0577 - val_accuracy: 0.2381\n",
      "Epoch 11/50\n",
      "118/118 [==============================] - 0s 3ms/step - loss: 0.0569 - accuracy: 0.2310 - val_loss: 0.0554 - val_accuracy: 0.2418\n",
      "Epoch 12/50\n",
      "118/118 [==============================] - 0s 3ms/step - loss: 0.0544 - accuracy: 0.2373 - val_loss: 0.0534 - val_accuracy: 0.2452\n",
      "Epoch 13/50\n",
      "118/118 [==============================] - 0s 3ms/step - loss: 0.0521 - accuracy: 0.2445 - val_loss: 0.0520 - val_accuracy: 0.2586\n",
      "Epoch 14/50\n",
      "118/118 [==============================] - 0s 4ms/step - loss: 0.0505 - accuracy: 0.2509 - val_loss: 0.0503 - val_accuracy: 0.2661\n",
      "Epoch 15/50\n",
      "118/118 [==============================] - 0s 3ms/step - loss: 0.0486 - accuracy: 0.2538 - val_loss: 0.0487 - val_accuracy: 0.2711\n",
      "Epoch 16/50\n",
      "118/118 [==============================] - 0s 3ms/step - loss: 0.0471 - accuracy: 0.2561 - val_loss: 0.0480 - val_accuracy: 0.2700\n",
      "Epoch 17/50\n",
      "118/118 [==============================] - 0s 3ms/step - loss: 0.0455 - accuracy: 0.2607 - val_loss: 0.0462 - val_accuracy: 0.2747\n",
      "Epoch 18/50\n",
      "118/118 [==============================] - 0s 3ms/step - loss: 0.0441 - accuracy: 0.2625 - val_loss: 0.0448 - val_accuracy: 0.2797\n",
      "Epoch 19/50\n",
      "118/118 [==============================] - 0s 3ms/step - loss: 0.0430 - accuracy: 0.2646 - val_loss: 0.0440 - val_accuracy: 0.2804\n",
      "Epoch 20/50\n",
      "118/118 [==============================] - 0s 3ms/step - loss: 0.0418 - accuracy: 0.2671 - val_loss: 0.0430 - val_accuracy: 0.2848\n",
      "Epoch 21/50\n",
      "118/118 [==============================] - 0s 3ms/step - loss: 0.0410 - accuracy: 0.2700 - val_loss: 0.0425 - val_accuracy: 0.2869\n",
      "Epoch 22/50\n",
      "118/118 [==============================] - 0s 3ms/step - loss: 0.0403 - accuracy: 0.2702 - val_loss: 0.0420 - val_accuracy: 0.2892\n",
      "Epoch 23/50\n",
      "118/118 [==============================] - 0s 3ms/step - loss: 0.0397 - accuracy: 0.2749 - val_loss: 0.0417 - val_accuracy: 0.2880\n",
      "Epoch 24/50\n",
      "118/118 [==============================] - 0s 3ms/step - loss: 0.0390 - accuracy: 0.2768 - val_loss: 0.0413 - val_accuracy: 0.2897\n",
      "Epoch 25/50\n",
      "118/118 [==============================] - 0s 3ms/step - loss: 0.0382 - accuracy: 0.2785 - val_loss: 0.0406 - val_accuracy: 0.2949\n",
      "Epoch 26/50\n",
      "118/118 [==============================] - 0s 3ms/step - loss: 0.0376 - accuracy: 0.2820 - val_loss: 0.0406 - val_accuracy: 0.2940\n",
      "Epoch 27/50\n",
      "118/118 [==============================] - 0s 3ms/step - loss: 0.0372 - accuracy: 0.2816 - val_loss: 0.0398 - val_accuracy: 0.2996\n",
      "Epoch 28/50\n",
      "118/118 [==============================] - 0s 3ms/step - loss: 0.0368 - accuracy: 0.2844 - val_loss: 0.0393 - val_accuracy: 0.2962\n",
      "Epoch 29/50\n",
      "118/118 [==============================] - 0s 3ms/step - loss: 0.0364 - accuracy: 0.2847 - val_loss: 0.0394 - val_accuracy: 0.2936\n",
      "Epoch 30/50\n",
      "118/118 [==============================] - 0s 3ms/step - loss: 0.0361 - accuracy: 0.2858 - val_loss: 0.0387 - val_accuracy: 0.2978\n",
      "Epoch 31/50\n",
      "118/118 [==============================] - 0s 3ms/step - loss: 0.0356 - accuracy: 0.2866 - val_loss: 0.0386 - val_accuracy: 0.2995\n",
      "Epoch 32/50\n",
      "118/118 [==============================] - 0s 3ms/step - loss: 0.0353 - accuracy: 0.2873 - val_loss: 0.0383 - val_accuracy: 0.2980\n",
      "Epoch 33/50\n",
      "118/118 [==============================] - 0s 3ms/step - loss: 0.0351 - accuracy: 0.2906 - val_loss: 0.0384 - val_accuracy: 0.3050\n",
      "Epoch 34/50\n",
      "118/118 [==============================] - 0s 3ms/step - loss: 0.0348 - accuracy: 0.2910 - val_loss: 0.0379 - val_accuracy: 0.3055\n",
      "Epoch 35/50\n",
      "118/118 [==============================] - 0s 3ms/step - loss: 0.0344 - accuracy: 0.2925 - val_loss: 0.0378 - val_accuracy: 0.3039\n",
      "Epoch 36/50\n",
      "118/118 [==============================] - 0s 3ms/step - loss: 0.0342 - accuracy: 0.2948 - val_loss: 0.0382 - val_accuracy: 0.3107\n",
      "Epoch 37/50\n",
      "118/118 [==============================] - 0s 3ms/step - loss: 0.0341 - accuracy: 0.2947 - val_loss: 0.0379 - val_accuracy: 0.3089\n",
      "Epoch 38/50\n",
      "118/118 [==============================] - 0s 3ms/step - loss: 0.0337 - accuracy: 0.2951 - val_loss: 0.0371 - val_accuracy: 0.3089\n",
      "Epoch 39/50\n",
      "118/118 [==============================] - 0s 4ms/step - loss: 0.0334 - accuracy: 0.2961 - val_loss: 0.0369 - val_accuracy: 0.3090\n",
      "Epoch 40/50\n",
      "118/118 [==============================] - 1s 4ms/step - loss: 0.0331 - accuracy: 0.2983 - val_loss: 0.0371 - val_accuracy: 0.3118\n",
      "Epoch 41/50\n",
      "118/118 [==============================] - 0s 4ms/step - loss: 0.0330 - accuracy: 0.2997 - val_loss: 0.0367 - val_accuracy: 0.3103\n",
      "Epoch 42/50\n",
      "118/118 [==============================] - 0s 4ms/step - loss: 0.0328 - accuracy: 0.2993 - val_loss: 0.0365 - val_accuracy: 0.3119\n",
      "Epoch 43/50\n",
      "118/118 [==============================] - 0s 4ms/step - loss: 0.0326 - accuracy: 0.3009 - val_loss: 0.0367 - val_accuracy: 0.3159\n",
      "Epoch 44/50\n",
      "118/118 [==============================] - 0s 4ms/step - loss: 0.0324 - accuracy: 0.3021 - val_loss: 0.0365 - val_accuracy: 0.3097\n",
      "Epoch 45/50\n",
      "118/118 [==============================] - 0s 4ms/step - loss: 0.0320 - accuracy: 0.3017 - val_loss: 0.0362 - val_accuracy: 0.3143\n",
      "Epoch 46/50\n",
      "118/118 [==============================] - 1s 4ms/step - loss: 0.0318 - accuracy: 0.3023 - val_loss: 0.0359 - val_accuracy: 0.3133\n",
      "Epoch 47/50\n",
      "118/118 [==============================] - 0s 4ms/step - loss: 0.0316 - accuracy: 0.3028 - val_loss: 0.0360 - val_accuracy: 0.3191\n",
      "Epoch 48/50\n",
      "118/118 [==============================] - 0s 3ms/step - loss: 0.0315 - accuracy: 0.3041 - val_loss: 0.0358 - val_accuracy: 0.3171\n",
      "Epoch 49/50\n",
      "118/118 [==============================] - 0s 3ms/step - loss: 0.0312 - accuracy: 0.3046 - val_loss: 0.0355 - val_accuracy: 0.3180\n",
      "Epoch 50/50\n",
      "118/118 [==============================] - 0s 4ms/step - loss: 0.0309 - accuracy: 0.3060 - val_loss: 0.0353 - val_accuracy: 0.3187\n"
     ]
    },
    {
     "data": {
      "text/plain": [
       "<keras.callbacks.History at 0x24c0a3071c0>"
      ]
     },
     "execution_count": 188,
     "metadata": {},
     "output_type": "execute_result"
    }
   ],
   "source": [
    "latent_dim = 2 ** n_qubits    # Selected latent dimensions\n",
    "\n",
    "class Autoencoder(tf.keras.models.Model):\n",
    "  def __init__(self, latent_dim):\n",
    "    super(Autoencoder, self).__init__()\n",
    "    self.latent_dim = latent_dim   \n",
    "    self.encoder = tf.keras.Sequential([\n",
    "      tf.keras.layers.Flatten(name = \"faltten_1\"),\n",
    "      tf.keras.layers.Dense(128, activation='relu', name = \"dense_1\"),\n",
    "      tf.keras.layers.Dense(64, activation='relu', name = \"dense_2\"),\n",
    "      tf.keras.layers.Dense(64, activation='relu', name = \"dense_x\"),\n",
    "      tf.keras.layers.Dense(latent_dim, activation='relu', name = \"dense_3\"),\n",
    "    ])\n",
    "    self.decoder = tf.keras.Sequential([\n",
    "      tf.keras.layers.Dense(64, activation='relu', name = \"dense_4\"),\n",
    "      tf.keras.layers.Dense(128, activation='relu', name = \"dense_5\"),\n",
    "      tf.keras.layers.Dense(784, activation='sigmoid', name = \"dense_6\"),\n",
    "      tf.keras.layers.Reshape((28, 28), name = \"reshape_1\")\n",
    "    ])\n",
    "\n",
    "  def call(self, x):\n",
    "    encoded = self.encoder(x)\n",
    "    decoded = self.decoder(encoded)\n",
    "    return decoded\n",
    "\n",
    "# Prepare and compile the model\n",
    "autoencoder = Autoencoder(latent_dim)\n",
    "autoencoder.compile(optimizer='adam', loss='mae', metrics=[\"accuracy\"])\n",
    "\n",
    "# Train the model with the filtered data\n",
    "autoencoder.fit(x_train, x_train, epochs=50, shuffle=True, validation_data=(x_test, x_test))\n"
   ]
  },
  {
   "cell_type": "code",
   "execution_count": 189,
   "metadata": {},
   "outputs": [
    {
     "data": {
      "image/png": "[encoded data removed]",
      "text/plain": [
       "<Figure size 2160x288 with 30 Axes>"
      ]
     },
     "metadata": {
      "needs_background": "light"
     },
     "output_type": "display_data"
    }
   ],
   "source": [
    "import matplotlib.pyplot as plt\n",
    "\n",
    "encoded_imgs = autoencoder.encoder(x_train).numpy()\n",
    "decoded_imgs = autoencoder.decoder(encoded_imgs).numpy()\n",
    "\n",
    "n = 15\n",
    "plt.figure(figsize=(30, 4))\n",
    "for i in range(n):\n",
    "  # display original\n",
    "  ax = plt.subplot(2, n, i + 1)\n",
    "  plt.imshow(x_train[i])\n",
    "  plt.title(\"original\")\n",
    "  plt.gray()\n",
    "  ax.get_xaxis().set_visible(False)\n",
    "  ax.get_yaxis().set_visible(False)\n",
    "\n",
    "  # display reconstruction\n",
    "  ax = plt.subplot(2, n, i + 1 + n)\n",
    "  plt.imshow(decoded_imgs[i])\n",
    "  plt.title(\"reconstructed\")\n",
    "  plt.gray()\n",
    "  ax.get_xaxis().set_visible(False)\n",
    "  ax.get_yaxis().set_visible(False)\n",
    "plt.show()"
   ]
  },
  {
   "cell_type": "code",
   "execution_count": 190,
   "metadata": {},
   "outputs": [],
   "source": [
    "# Encode data with our new autoencoder\n",
    "QX_train = autoencoder.encoder(x_train).numpy()\n",
    "QX_test = autoencoder.encoder(x_test).numpy()\n",
    "\n",
    "# Change Y values to categorical\n",
    "QY_train = tf.keras.utils.to_categorical(y_train, 10)\n",
    "QY_test = tf.keras.utils.to_categorical(y_test, 10)"
   ]
  },
  {
   "cell_type": "code",
   "execution_count": 191,
   "metadata": {},
   "outputs": [],
   "source": [
    "import pennylane as qml\n",
    "from pennylane import numpy as p_np\n",
    "\n",
    "from pennylane.templates.state_preparations import MottonenStatePreparation\n",
    "from pennylane.templates.layers import StronglyEntanglingLayers"
   ]
  },
  {
   "cell_type": "code",
   "execution_count": 192,
   "metadata": {},
   "outputs": [],
   "source": [
    "dev = qml.device(\"default.qubit\", wires = n_qubits)\n",
    "\n",
    "@qml.qnode(dev, diff_method='adjoint')\n",
    "def circuit(weights, inputs=None):\n",
    "  ''' Quantum QVC Circuit'''\n",
    "\n",
    "  # Splits need to be done through the tensorflow interface\n",
    "  weights_each_layer = tf.split(weights, num_or_size_splits=num_layers, axis=0)\n",
    "  \n",
    "  # Input normalization\n",
    "  inputs_1 = inputs / p_np.sqrt(max(p_np.sum(inputs ** 2, axis=-1), 0.001))\n",
    "\n",
    "  for i, W in enumerate(weights):\n",
    "    # Data re-uploading technique\n",
    "    if i % 2 == 0:\n",
    "      MottonenStatePreparation(inputs_1, wires = range(n_qubits))\n",
    "    \n",
    "    # Neural network layer\n",
    "    StronglyEntanglingLayers(weights_each_layer[i], wires=range(n_qubits))\n",
    "  \n",
    "  # Measurement return\n",
    "  return [qml.expval(qml.PauliZ(i)) for i in range(n_qubits)] "
   ]
  },
  {
   "cell_type": "code",
   "execution_count": 193,
   "metadata": {},
   "outputs": [],
   "source": [
    "weight_shapes = {\"weights\": (num_layers,n_qubits,3)}\n",
    "\n",
    "# Model  \n",
    "input_m = tf.keras.layers.Input(shape=(2 ** n_qubits,), name = \"input_0\")\n",
    "keras_1 = qml.qnn.KerasLayer(circuit, weight_shapes, output_dim=n_qubits, name = \"keras_1\")(input_m)\n",
    "output = tf.keras.layers.Dense(10, activation='softmax', name = \"dense_1\")(keras_1)\n",
    "\n",
    "# Model creation\n",
    "model = tf.keras.Model(inputs=input_m, outputs=output, name=\"mnist_quantum_model\")\n",
    "\n",
    "# Model compilation\n",
    "model.compile(\n",
    "  loss='categorical_crossentropy',\n",
    "  optimizer=tf.keras.optimizers.Adam(learning_rate=0.01) ,\n",
    "  metrics=[tf.keras.metrics.CategoricalAccuracy()]\n",
    ")"
   ]
  },
  {
   "cell_type": "code",
   "execution_count": 211,
   "metadata": {},
   "outputs": [
    {
     "name": "stdout",
     "output_type": "stream",
     "text": [
      "Model: \"mnist_quantum_model\"\n",
      "_________________________________________________________________\n",
      "Layer (type)                 Output Shape              Param #   \n",
      "=================================================================\n",
      "input_0 (InputLayer)         [(None, 64)]              0         \n",
      "_________________________________________________________________\n",
      "keras_1 (KerasLayer)         (None, 6)                 90        \n",
      "_________________________________________________________________\n",
      "dense_1 (Dense)              (None, 10)                70        \n",
      "=================================================================\n",
      "Total params: 160\n",
      "Trainable params: 160\n",
      "Non-trainable params: 0\n",
      "_________________________________________________________________\n"
     ]
    }
   ],
   "source": [
    "model.summary()"
   ]
  },
  {
   "cell_type": "code",
   "execution_count": 194,
   "metadata": {},
   "outputs": [
    {
     "name": "stdout",
     "output_type": "stream",
     "text": [
      "Epoch 1/5\n",
      "470/470 [==============================] - 1770s 4s/step - loss: 0.6561 - categorical_accuracy: 0.8651\n",
      "Epoch 2/5\n",
      "470/470 [==============================] - 1734s 4s/step - loss: 0.1389 - categorical_accuracy: 0.9755\n",
      "Epoch 3/5\n",
      "470/470 [==============================] - 1640s 3s/step - loss: 0.0933 - categorical_accuracy: 0.9790\n",
      "Epoch 4/5\n",
      "470/470 [==============================] - 49847s 106s/step - loss: 0.0730 - categorical_accuracy: 0.9824\n",
      "Epoch 5/5\n",
      "470/470 [==============================] - 1633s 3s/step - loss: 0.0665 - categorical_accuracy: 0.9811\n"
     ]
    },
    {
     "data": {
      "text/plain": [
       "<keras.callbacks.History at 0x24c147749d0>"
      ]
     },
     "execution_count": 194,
     "metadata": {},
     "output_type": "execute_result"
    }
   ],
   "source": [
    "model.fit(QX_train, QY_train, batch_size=8, epochs=5, shuffle=True)"
   ]
  },
  {
   "cell_type": "code",
   "execution_count": 195,
   "metadata": {},
   "outputs": [
    {
     "name": "stdout",
     "output_type": "stream",
     "text": [
      "20/20 [==============================] - 82s 4s/step - loss: 0.0976 - categorical_accuracy: 0.9694\n"
     ]
    }
   ],
   "source": [
    "results = model.evaluate(QX_test, QY_test)"
   ]
  },
  {
   "cell_type": "code",
   "execution_count": 196,
   "metadata": {},
   "outputs": [],
   "source": [
    "predicted = model.predict(QX_test)"
   ]
  },
  {
   "cell_type": "code",
   "execution_count": 197,
   "metadata": {},
   "outputs": [
    {
     "name": "stdout",
     "output_type": "stream",
     "text": [
      "Counter({3: 13, 6: 5, 1: 1})\n"
     ]
    }
   ],
   "source": [
    "from collections import Counter\n",
    "predicted_argmax = np.argmax(predicted, axis=1)\n",
    "incorrect = predicted_argmax != y_test\n",
    "print(Counter(y_test[incorrect]))"
   ]
  },
  {
   "cell_type": "code",
   "execution_count": 198,
   "metadata": {},
   "outputs": [
    {
     "data": {
      "image/png": "[encoded data removed]",
      "text/plain": [
       "<Figure size 432x288 with 1 Axes>"
      ]
     },
     "metadata": {
      "needs_background": "light"
     },
     "output_type": "display_data"
    },
    {
     "data": {
      "image/png": "[encoded data removed]",
      "text/plain": [
       "<Figure size 432x288 with 1 Axes>"
      ]
     },
     "metadata": {
      "needs_background": "light"
     },
     "output_type": "display_data"
    },
    {
     "data": {
      "image/png": "[encoded data removed]",
      "text/plain": [
       "<Figure size 432x288 with 1 Axes>"
      ]
     },
     "metadata": {
      "needs_background": "light"
     },
     "output_type": "display_data"
    },
    {
     "data": {
      "image/png": "[encoded data removed]",
      "text/plain": [
       "<Figure size 432x288 with 1 Axes>"
      ]
     },
     "metadata": {
      "needs_background": "light"
     },
     "output_type": "display_data"
    },
    {
     "data": {
      "image/png": "[encoded data removed]",
      "text/plain": [
       "<Figure size 432x288 with 1 Axes>"
      ]
     },
     "metadata": {
      "needs_background": "light"
     },
     "output_type": "display_data"
    },
    {
     "data": {
      "image/png": "[encoded data removed]",
      "text/plain": [
       "<Figure size 432x288 with 1 Axes>"
      ]
     },
     "metadata": {
      "needs_background": "light"
     },
     "output_type": "display_data"
    },
    {
     "data": {
      "image/png": "[encoded data removed]",
      "text/plain": [
       "<Figure size 432x288 with 1 Axes>"
      ]
     },
     "metadata": {
      "needs_background": "light"
     },
     "output_type": "display_data"
    },
    {
     "data": {
      "image/png": "[encoded data removed]",
      "text/plain": [
       "<Figure size 432x288 with 1 Axes>"
      ]
     },
     "metadata": {
      "needs_background": "light"
     },
     "output_type": "display_data"
    },
    {
     "data": {
      "image/png": "[encoded data removed]",
      "text/plain": [
       "<Figure size 432x288 with 1 Axes>"
      ]
     },
     "metadata": {
      "needs_background": "light"
     },
     "output_type": "display_data"
    },
    {
     "data": {
      "image/png": "[encoded data removed]",
      "text/plain": [
       "<Figure size 432x288 with 1 Axes>"
      ]
     },
     "metadata": {
      "needs_background": "light"
     },
     "output_type": "display_data"
    }
   ],
   "source": [
    "count = 10\n",
    "x_t = x_test[incorrect][:count]\n",
    "y_t = y_test[incorrect][:count]\n",
    "p_t = predicted_argmax[incorrect][:count]\n",
    "\n",
    "for x,y,p in zip(x_t, y_t, p_t):\n",
    "    plt.imshow(x)\n",
    "    plt.title(f\"predicted {p} original {y}\")\n",
    "    plt.gray()\n",
    "    ax.get_xaxis().set_visible(False)\n",
    "    ax.get_yaxis().set_visible(False)\n",
    "    plt.show()\n"
   ]
  },
  {
   "cell_type": "markdown",
   "metadata": {},
   "source": [
    "Build | Autoencoder | Train | Test\n",
    "--- | --- | --- | ---\n",
    "2 qubits 1 layer | 19% | 23m 51% | 56%\n"
   ]
  },
  {
   "cell_type": "code",
   "execution_count": 230,
   "metadata": {},
   "outputs": [
    {
     "name": "stdout",
     "output_type": "stream",
     "text": [
      "Epoch 1/5\n",
      "470/470 [==============================] - 1s 565us/step - loss: 0.7766 - categorical_accuracy: 0.7073\n",
      "Epoch 2/5\n",
      "470/470 [==============================] - 0s 514us/step - loss: 0.2989 - categorical_accuracy: 0.9303\n",
      "Epoch 3/5\n",
      "470/470 [==============================] - 0s 544us/step - loss: 0.2317 - categorical_accuracy: 0.9377\n",
      "Epoch 4/5\n",
      "470/470 [==============================] - 0s 525us/step - loss: 0.2083 - categorical_accuracy: 0.9409\n",
      "Epoch 5/5\n",
      "470/470 [==============================] - 0s 512us/step - loss: 0.1830 - categorical_accuracy: 0.9452\n",
      "Model: \"sequential_92\"\n",
      "_________________________________________________________________\n",
      "Layer (type)                 Output Shape              Param #   \n",
      "=================================================================\n",
      "dense_77 (Dense)             (None, 2)                 130       \n",
      "_________________________________________________________________\n",
      "dense_78 (Dense)             (None, 10)                30        \n",
      "=================================================================\n",
      "Total params: 160\n",
      "Trainable params: 160\n",
      "Non-trainable params: 0\n",
      "_________________________________________________________________\n",
      "None\n"
     ]
    }
   ],
   "source": [
    "classical_model = tf.keras.models.Sequential([\n",
    "  tf.keras.layers.Dense(2, activation='relu'),\n",
    "  tf.keras.layers.Dense(10, activation='softmax')\n",
    "])\n",
    "classical_model.compile(\n",
    "  loss='categorical_crossentropy',\n",
    "  optimizer=tf.keras.optimizers.Adam(learning_rate=0.01) ,\n",
    "  metrics=[tf.keras.metrics.CategoricalAccuracy()]\n",
    ")\n",
    "\n",
    "classical_model.fit(QX_train, QY_train, epochs=5, batch_size=8, shuffle=True)\n",
    "\n",
    "print(classical_model.summary())"
   ]
  },
  {
   "cell_type": "code",
   "execution_count": 231,
   "metadata": {},
   "outputs": [
    {
     "name": "stdout",
     "output_type": "stream",
     "text": [
      "20/20 [==============================] - 0s 526us/step - loss: 0.2157 - categorical_accuracy: 0.9403\n"
     ]
    },
    {
     "data": {
      "text/plain": [
       "[0.21574212610721588, 0.9403225779533386]"
      ]
     },
     "execution_count": 231,
     "metadata": {},
     "output_type": "execute_result"
    }
   ],
   "source": [
    "classical_model.evaluate(QX_test, QY_test)"
   ]
  },
  {
   "cell_type": "code",
   "execution_count": 232,
   "metadata": {},
   "outputs": [
    {
     "name": "stdout",
     "output_type": "stream",
     "text": [
      "Epoch 1/5\n",
      "470/470 [==============================] - 1s 889us/step - loss: 0.2110 - categorical_accuracy: 0.9351\n",
      "Epoch 2/5\n",
      "470/470 [==============================] - 0s 962us/step - loss: 0.1018 - categorical_accuracy: 0.9705\n",
      "Epoch 3/5\n",
      "470/470 [==============================] - 0s 1ms/step - loss: 0.0900 - categorical_accuracy: 0.9782\n",
      "Epoch 4/5\n",
      "470/470 [==============================] - 1s 1ms/step - loss: 0.1342 - categorical_accuracy: 0.9635\n",
      "Epoch 5/5\n",
      "470/470 [==============================] - 1s 1ms/step - loss: 0.0755 - categorical_accuracy: 0.9782\n",
      "Model: \"sequential_93\"\n",
      "_________________________________________________________________\n",
      "Layer (type)                 Output Shape              Param #   \n",
      "=================================================================\n",
      "dense_79 (Dense)             (None, 18)                1170      \n",
      "_________________________________________________________________\n",
      "dense_80 (Dense)             (None, 18)                342       \n",
      "_________________________________________________________________\n",
      "dense_81 (Dense)             (None, 18)                342       \n",
      "_________________________________________________________________\n",
      "dense_82 (Dense)             (None, 18)                342       \n",
      "_________________________________________________________________\n",
      "dense_83 (Dense)             (None, 18)                342       \n",
      "_________________________________________________________________\n",
      "dense_84 (Dense)             (None, 18)                342       \n",
      "_________________________________________________________________\n",
      "dense_85 (Dense)             (None, 10)                190       \n",
      "=================================================================\n",
      "Total params: 3,070\n",
      "Trainable params: 3,070\n",
      "Non-trainable params: 0\n",
      "_________________________________________________________________\n",
      "None\n"
     ]
    }
   ],
   "source": [
    "classical_model = tf.keras.models.Sequential([\n",
    "  tf.keras.layers.Dense(n_qubits*3, activation='relu'),\n",
    "  tf.keras.layers.Dense(n_qubits*3, activation='relu'),\n",
    "  tf.keras.layers.Dense(n_qubits*3, activation='relu'),\n",
    "  tf.keras.layers.Dense(n_qubits*3, activation='relu'),\n",
    "  tf.keras.layers.Dense(n_qubits*3, activation='relu'),\n",
    "  tf.keras.layers.Dense(n_qubits*3, activation='relu'),\n",
    "  tf.keras.layers.Dense(10, activation='softmax')\n",
    "])\n",
    "classical_model.compile(\n",
    "  loss='categorical_crossentropy',\n",
    "  optimizer=tf.keras.optimizers.Adam(learning_rate=0.01) ,\n",
    "  metrics=[tf.keras.metrics.CategoricalAccuracy()]\n",
    ")\n",
    "\n",
    "classical_model.fit(QX_train, QY_train, epochs=5, batch_size=8, shuffle=True)\n",
    "\n",
    "print(classical_model.summary())"
   ]
  },
  {
   "cell_type": "code",
   "execution_count": 233,
   "metadata": {},
   "outputs": [
    {
     "name": "stdout",
     "output_type": "stream",
     "text": [
      "20/20 [==============================] - 0s 579us/step - loss: 0.1232 - categorical_accuracy: 0.9613\n"
     ]
    },
    {
     "data": {
      "text/plain": [
       "[0.12318307161331177, 0.9612902998924255]"
      ]
     },
     "execution_count": 233,
     "metadata": {},
     "output_type": "execute_result"
    }
   ],
   "source": [
    "classical_model.evaluate(QX_test, QY_test)"
   ]
  },
  {
   "cell_type": "code",
   "execution_count": null,
   "metadata": {},
   "outputs": [],
   "source": []
  }
 ],
 "metadata": {
  "interpreter": {
   "hash": "5f3977414d09d4c2470e521394958a9239e64c385931660de8474b5f8d0e3040"
  },
  "kernelspec": {
   "display_name": "Python 3.9.5 64-bit",
   "language": "python",
   "name": "python3"
  },
  "language_info": {
   "codemirror_mode": {
    "name": "ipython",
    "version": 3
   },
   "file_extension": ".py",
   "mimetype": "text/x-python",
   "name": "python",
   "nbconvert_exporter": "python",
   "pygments_lexer": "ipython3",
   "version": "3.9.5"
  },
  "orig_nbformat": 4
 },
 "nbformat": 4,
 "nbformat_minor": 2
}
